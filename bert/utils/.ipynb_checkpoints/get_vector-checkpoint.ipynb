{
 "cells": [
  {
   "cell_type": "code",
   "execution_count": 1,
   "id": "ecb3dae2",
   "metadata": {},
   "outputs": [
    {
     "ename": "ModuleNotFoundError",
     "evalue": "No module named 'utils'",
     "output_type": "error",
     "traceback": [
      "\u001b[0;31m---------------------------------------------------------------------------\u001b[0m",
      "\u001b[0;31mModuleNotFoundError\u001b[0m                       Traceback (most recent call last)",
      "Cell \u001b[0;32mIn [1], line 1\u001b[0m\n\u001b[0;32m----> 1\u001b[0m \u001b[38;5;28;01mfrom\u001b[39;00m \u001b[38;5;21;01mutils\u001b[39;00m \u001b[38;5;28;01mimport\u001b[39;00m bert_config\n",
      "\u001b[0;31mModuleNotFoundError\u001b[0m: No module named 'utils'"
     ]
    }
   ],
   "source": [
    "from utils import bert_config\n",
    "import argparse"
   ]
  },
  {
   "cell_type": "code",
   "execution_count": null,
   "id": "fce43109",
   "metadata": {},
   "outputs": [],
   "source": [
    "def args_config():\n",
    "    parser = argparse.ArgumentParser()\n",
    "    parser.add_argument('--df_path',type = str, default=None,\n",
    "                       help = 'Enter data if df(default = None)')\n",
    "    parser.add_argument('--word_list', type = str, default = None,\n",
    "                       help 'Function for theme classification, data must be word_list(default=None)')\n",
    "    \n",
    "    args = parser.parse_args()\n",
    "    \n",
    "    return args"
   ]
  },
  {
   "cell_type": "code",
   "execution_count": null,
   "id": "52d2ec4f",
   "metadata": {},
   "outputs": [],
   "source": [
    "if __name__ == '__main__':\n",
    "    args = get_concifg()\n",
    "    # 데이터가 df 일 경우\n",
    "    if args.df_path != None:\n",
    "        bert_config.Custom_bert(df_path = args.df_path)\n",
    "        embed_layer = bert_config.get_df_vector()\n",
    "        print('df embeding done')\n",
    "        \n",
    "    elif args.word_list != None:\n",
    "        bert_config.Custom_bert(df_path = args.word_list)\n",
    "        embed_layer = bert_config.get_word_vector()\n",
    "        print('word embeding done')"
   ]
  },
  {
   "cell_type": "code",
   "execution_count": null,
   "id": "2ebf27e9",
   "metadata": {},
   "outputs": [],
   "source": []
  }
 ],
 "metadata": {
  "kernelspec": {
   "display_name": "Python 3 (ipykernel)",
   "language": "python",
   "name": "python3"
  },
  "language_info": {
   "codemirror_mode": {
    "name": "ipython",
    "version": 3
   },
   "file_extension": ".py",
   "mimetype": "text/x-python",
   "name": "python",
   "nbconvert_exporter": "python",
   "pygments_lexer": "ipython3",
   "version": "3.9.13"
  }
 },
 "nbformat": 4,
 "nbformat_minor": 5
}
